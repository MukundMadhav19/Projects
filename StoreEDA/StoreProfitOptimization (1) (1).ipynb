{
 "cells": [
  {
   "cell_type": "code",
   "execution_count": 4,
   "id": "183278b3-a0ce-446b-b184-58918caf1eab",
   "metadata": {},
   "outputs": [],
   "source": [
    "import numpy as np \n",
    "import pandas as pd \n",
    "import matplotlib.pyplot as plt \n",
    "import seaborn as sns "
   ]
  },
  {
   "cell_type": "code",
   "execution_count": 5,
   "id": "7756c930-3d71-405a-9720-87dcaf454e54",
   "metadata": {},
   "outputs": [
    {
     "data": {
      "text/html": [
       "<div>\n",
       "<style scoped>\n",
       "    .dataframe tbody tr th:only-of-type {\n",
       "        vertical-align: middle;\n",
       "    }\n",
       "\n",
       "    .dataframe tbody tr th {\n",
       "        vertical-align: top;\n",
       "    }\n",
       "\n",
       "    .dataframe thead th {\n",
       "        text-align: right;\n",
       "    }\n",
       "</style>\n",
       "<table border=\"1\" class=\"dataframe\">\n",
       "  <thead>\n",
       "    <tr style=\"text-align: right;\">\n",
       "      <th></th>\n",
       "      <th>Row ID</th>\n",
       "      <th>Order ID</th>\n",
       "      <th>Order Date</th>\n",
       "      <th>Ship Date</th>\n",
       "      <th>Ship Mode</th>\n",
       "      <th>Customer ID</th>\n",
       "      <th>Customer Name</th>\n",
       "      <th>Segment</th>\n",
       "      <th>Country</th>\n",
       "      <th>City</th>\n",
       "      <th>State</th>\n",
       "      <th>Postal Code</th>\n",
       "      <th>Region</th>\n",
       "      <th>Product ID</th>\n",
       "      <th>Category</th>\n",
       "      <th>Sub-Category</th>\n",
       "      <th>Product Name</th>\n",
       "      <th>Sales</th>\n",
       "    </tr>\n",
       "  </thead>\n",
       "  <tbody>\n",
       "    <tr>\n",
       "      <th>0</th>\n",
       "      <td>1</td>\n",
       "      <td>CA-2017-152156</td>\n",
       "      <td>08-11-2017</td>\n",
       "      <td>11-11-2017</td>\n",
       "      <td>Second Class</td>\n",
       "      <td>CG-12520</td>\n",
       "      <td>Claire Gute</td>\n",
       "      <td>Consumer</td>\n",
       "      <td>United States</td>\n",
       "      <td>Henderson</td>\n",
       "      <td>Kentucky</td>\n",
       "      <td>42420.0</td>\n",
       "      <td>South</td>\n",
       "      <td>FUR-BO-10001798</td>\n",
       "      <td>Furniture</td>\n",
       "      <td>Bookcases</td>\n",
       "      <td>Bush Somerset Collection Bookcase</td>\n",
       "      <td>261.9600</td>\n",
       "    </tr>\n",
       "    <tr>\n",
       "      <th>1</th>\n",
       "      <td>2</td>\n",
       "      <td>CA-2017-152156</td>\n",
       "      <td>08-11-2017</td>\n",
       "      <td>11-11-2017</td>\n",
       "      <td>Second Class</td>\n",
       "      <td>CG-12520</td>\n",
       "      <td>Claire Gute</td>\n",
       "      <td>Consumer</td>\n",
       "      <td>United States</td>\n",
       "      <td>Henderson</td>\n",
       "      <td>Kentucky</td>\n",
       "      <td>42420.0</td>\n",
       "      <td>South</td>\n",
       "      <td>FUR-CH-10000454</td>\n",
       "      <td>Furniture</td>\n",
       "      <td>Chairs</td>\n",
       "      <td>Hon Deluxe Fabric Upholstered Stacking Chairs,...</td>\n",
       "      <td>731.9400</td>\n",
       "    </tr>\n",
       "    <tr>\n",
       "      <th>2</th>\n",
       "      <td>3</td>\n",
       "      <td>CA-2017-138688</td>\n",
       "      <td>12-06-2017</td>\n",
       "      <td>16-06-2017</td>\n",
       "      <td>Second Class</td>\n",
       "      <td>DV-13045</td>\n",
       "      <td>Darrin Van Huff</td>\n",
       "      <td>Corporate</td>\n",
       "      <td>United States</td>\n",
       "      <td>Los Angeles</td>\n",
       "      <td>California</td>\n",
       "      <td>90036.0</td>\n",
       "      <td>West</td>\n",
       "      <td>OFF-LA-10000240</td>\n",
       "      <td>Office Supplies</td>\n",
       "      <td>Labels</td>\n",
       "      <td>Self-Adhesive Address Labels for Typewriters b...</td>\n",
       "      <td>14.6200</td>\n",
       "    </tr>\n",
       "    <tr>\n",
       "      <th>3</th>\n",
       "      <td>4</td>\n",
       "      <td>US-2016-108966</td>\n",
       "      <td>11-10-2016</td>\n",
       "      <td>18-10-2016</td>\n",
       "      <td>Standard Class</td>\n",
       "      <td>SO-20335</td>\n",
       "      <td>Sean O'Donnell</td>\n",
       "      <td>Consumer</td>\n",
       "      <td>United States</td>\n",
       "      <td>Fort Lauderdale</td>\n",
       "      <td>Florida</td>\n",
       "      <td>33311.0</td>\n",
       "      <td>South</td>\n",
       "      <td>FUR-TA-10000577</td>\n",
       "      <td>Furniture</td>\n",
       "      <td>Tables</td>\n",
       "      <td>Bretford CR4500 Series Slim Rectangular Table</td>\n",
       "      <td>957.5775</td>\n",
       "    </tr>\n",
       "    <tr>\n",
       "      <th>4</th>\n",
       "      <td>5</td>\n",
       "      <td>US-2016-108966</td>\n",
       "      <td>11-10-2016</td>\n",
       "      <td>18-10-2016</td>\n",
       "      <td>Standard Class</td>\n",
       "      <td>SO-20335</td>\n",
       "      <td>Sean O'Donnell</td>\n",
       "      <td>Consumer</td>\n",
       "      <td>United States</td>\n",
       "      <td>Fort Lauderdale</td>\n",
       "      <td>Florida</td>\n",
       "      <td>33311.0</td>\n",
       "      <td>South</td>\n",
       "      <td>OFF-ST-10000760</td>\n",
       "      <td>Office Supplies</td>\n",
       "      <td>Storage</td>\n",
       "      <td>Eldon Fold 'N Roll Cart System</td>\n",
       "      <td>22.3680</td>\n",
       "    </tr>\n",
       "  </tbody>\n",
       "</table>\n",
       "</div>"
      ],
      "text/plain": [
       "   Row ID        Order ID  Order Date   Ship Date       Ship Mode Customer ID  \\\n",
       "0       1  CA-2017-152156  08-11-2017  11-11-2017    Second Class    CG-12520   \n",
       "1       2  CA-2017-152156  08-11-2017  11-11-2017    Second Class    CG-12520   \n",
       "2       3  CA-2017-138688  12-06-2017  16-06-2017    Second Class    DV-13045   \n",
       "3       4  US-2016-108966  11-10-2016  18-10-2016  Standard Class    SO-20335   \n",
       "4       5  US-2016-108966  11-10-2016  18-10-2016  Standard Class    SO-20335   \n",
       "\n",
       "     Customer Name    Segment        Country             City       State  \\\n",
       "0      Claire Gute   Consumer  United States        Henderson    Kentucky   \n",
       "1      Claire Gute   Consumer  United States        Henderson    Kentucky   \n",
       "2  Darrin Van Huff  Corporate  United States      Los Angeles  California   \n",
       "3   Sean O'Donnell   Consumer  United States  Fort Lauderdale     Florida   \n",
       "4   Sean O'Donnell   Consumer  United States  Fort Lauderdale     Florida   \n",
       "\n",
       "   Postal Code Region       Product ID         Category Sub-Category  \\\n",
       "0      42420.0  South  FUR-BO-10001798        Furniture    Bookcases   \n",
       "1      42420.0  South  FUR-CH-10000454        Furniture       Chairs   \n",
       "2      90036.0   West  OFF-LA-10000240  Office Supplies       Labels   \n",
       "3      33311.0  South  FUR-TA-10000577        Furniture       Tables   \n",
       "4      33311.0  South  OFF-ST-10000760  Office Supplies      Storage   \n",
       "\n",
       "                                        Product Name     Sales  \n",
       "0                  Bush Somerset Collection Bookcase  261.9600  \n",
       "1  Hon Deluxe Fabric Upholstered Stacking Chairs,...  731.9400  \n",
       "2  Self-Adhesive Address Labels for Typewriters b...   14.6200  \n",
       "3      Bretford CR4500 Series Slim Rectangular Table  957.5775  \n",
       "4                     Eldon Fold 'N Roll Cart System   22.3680  "
      ]
     },
     "execution_count": 5,
     "metadata": {},
     "output_type": "execute_result"
    }
   ],
   "source": [
    "df = pd.read_csv(\"SuperStore (1).csv\")\n",
    "df.head()"
   ]
  },
  {
   "cell_type": "code",
   "execution_count": 6,
   "id": "b2b416c2-7b4d-4521-a0cd-8f8133c1d6e5",
   "metadata": {},
   "outputs": [],
   "source": [
    "df = df.drop_duplicates()"
   ]
  },
  {
   "cell_type": "code",
   "execution_count": 7,
   "id": "6d702988-bbd3-4a45-b78d-1d9b112a4fdc",
   "metadata": {},
   "outputs": [
    {
     "data": {
      "text/plain": [
       "Row ID            0\n",
       "Order ID          0\n",
       "Order Date        0\n",
       "Ship Date         0\n",
       "Ship Mode         0\n",
       "Customer ID       0\n",
       "Customer Name     0\n",
       "Segment           0\n",
       "Country           0\n",
       "City              0\n",
       "State             0\n",
       "Postal Code      11\n",
       "Region            0\n",
       "Product ID        0\n",
       "Category          0\n",
       "Sub-Category      0\n",
       "Product Name      0\n",
       "Sales             0\n",
       "dtype: int64"
      ]
     },
     "execution_count": 7,
     "metadata": {},
     "output_type": "execute_result"
    }
   ],
   "source": [
    "df.isnull().sum()"
   ]
  },
  {
   "cell_type": "code",
   "execution_count": 8,
   "id": "bc50465f-23b9-4aa2-a0a3-29f8db48288c",
   "metadata": {},
   "outputs": [
    {
     "data": {
      "text/plain": [
       "-0.13129452199239716"
      ]
     },
     "execution_count": 8,
     "metadata": {},
     "output_type": "execute_result"
    }
   ],
   "source": [
    "df['Postal Code'].dropna().skew()"
   ]
  },
  {
   "cell_type": "code",
   "execution_count": 9,
   "id": "f9b8ed67-4c0f-4960-b377-4dd91b72fae9",
   "metadata": {},
   "outputs": [
    {
     "data": {
      "text/plain": [
       "dtype('float64')"
      ]
     },
     "execution_count": 9,
     "metadata": {},
     "output_type": "execute_result"
    }
   ],
   "source": [
    "df['Postal Code'].dtype"
   ]
  },
  {
   "cell_type": "code",
   "execution_count": 10,
   "id": "b471202e-bdc2-4fc2-8dd2-d84d32967f09",
   "metadata": {},
   "outputs": [],
   "source": [
    "mode_pc = df['Postal Code'].mode()[0]\n",
    "df['Postal Code'] = df['Postal Code'].fillna(mode_pc)"
   ]
  },
  {
   "cell_type": "code",
   "execution_count": 11,
   "id": "ac15d76c-e336-4eda-9183-8cfe12343315",
   "metadata": {},
   "outputs": [],
   "source": [
    "df['Postal Code'] = df['Postal Code'].astype('Int64')"
   ]
  },
  {
   "cell_type": "code",
   "execution_count": 12,
   "id": "38329d7d-84ea-45f6-a97b-e51d7ba93bb6",
   "metadata": {},
   "outputs": [],
   "source": [
    "df['Order Date'] = pd.to_datetime(df['Order Date'], dayfirst=True)\n",
    "df['Ship Date'] = pd.to_datetime(df['Ship Date'], dayfirst=True)"
   ]
  },
  {
   "cell_type": "code",
   "execution_count": 13,
   "id": "2ec89d9e-9ed9-4c5d-bb4a-f3915bcf92eb",
   "metadata": {},
   "outputs": [
    {
     "data": {
      "text/plain": [
       "array(['South', 'West', 'Central', 'East'], dtype=object)"
      ]
     },
     "execution_count": 13,
     "metadata": {},
     "output_type": "execute_result"
    }
   ],
   "source": [
    "df['Category'].unique()\n",
    "df['Sub-Category'].unique()\n",
    "df['Region'].unique()"
   ]
  },
  {
   "cell_type": "code",
   "execution_count": 14,
   "id": "61f4a425-d11b-4748-b0f9-e24c003dbd81",
   "metadata": {},
   "outputs": [
    {
     "data": {
      "text/plain": [
       "Index(['Row ID', 'Order ID', 'Order Date', 'Ship Date', 'Ship Mode',\n",
       "       'Customer ID', 'Customer Name', 'Segment', 'Country', 'City', 'State',\n",
       "       'Postal Code', 'Region', 'Product ID', 'Category', 'Sub-Category',\n",
       "       'Product Name', 'Sales'],\n",
       "      dtype='object')"
      ]
     },
     "execution_count": 14,
     "metadata": {},
     "output_type": "execute_result"
    }
   ],
   "source": [
    "df.columns"
   ]
  },
  {
   "cell_type": "code",
   "execution_count": 15,
   "id": "44e6c189-6c34-4ca5-a770-0e94066e4fd4",
   "metadata": {},
   "outputs": [],
   "source": [
    "df['Estimated Profit'] = df['Sales'] * 0.25"
   ]
  },
  {
   "cell_type": "code",
   "execution_count": 16,
   "id": "be04b42d-8998-4ae4-8852-1a9d4e81787a",
   "metadata": {},
   "outputs": [],
   "source": [
    "product_df = df.groupby('Product Name').agg({\n",
    "    'Sales': 'sum',\n",
    "    'Estimated Profit': 'sum',\n",
    "    'Category': 'first',\n",
    "    'Sub-Category': 'first',\n",
    "}).reset_index()"
   ]
  },
  {
   "cell_type": "code",
   "execution_count": 17,
   "id": "fcfadec6-ed60-41a4-935c-f929db0437c8",
   "metadata": {},
   "outputs": [],
   "source": [
    "product_df = product_df[product_df['Estimated Profit'] > 0].reset_index(drop=True)"
   ]
  },
  {
   "cell_type": "code",
   "execution_count": 18,
   "id": "fd90cb5a-e959-4315-b6aa-0c64680412d8",
   "metadata": {},
   "outputs": [],
   "source": [
    "product_df = product_df.sort_values(by='Estimated Profit', ascending=False).reset_index(drop=True)"
   ]
  },
  {
   "cell_type": "code",
   "execution_count": 20,
   "id": "0adcb124-7431-461c-af65-bf58c8657b7b",
   "metadata": {},
   "outputs": [
    {
     "name": "stdout",
     "output_type": "stream",
     "text": [
      "Collecting pulp\n",
      "  Downloading pulp-3.2.1-py3-none-any.whl.metadata (6.9 kB)\n",
      "Downloading pulp-3.2.1-py3-none-any.whl (16.4 MB)\n",
      "   ---------------------------------------- 0.0/16.4 MB ? eta -:--:--\n",
      "   - -------------------------------------- 0.5/16.4 MB 5.6 MB/s eta 0:00:03\n",
      "   --- ------------------------------------ 1.3/16.4 MB 4.5 MB/s eta 0:00:04\n",
      "   ----- ---------------------------------- 2.1/16.4 MB 3.8 MB/s eta 0:00:04\n",
      "   ------- -------------------------------- 2.9/16.4 MB 3.7 MB/s eta 0:00:04\n",
      "   -------- ------------------------------- 3.4/16.4 MB 3.7 MB/s eta 0:00:04\n",
      "   --------- ------------------------------ 3.9/16.4 MB 3.5 MB/s eta 0:00:04\n",
      "   ---------- ----------------------------- 4.5/16.4 MB 3.2 MB/s eta 0:00:04\n",
      "   ------------ --------------------------- 5.0/16.4 MB 3.2 MB/s eta 0:00:04\n",
      "   -------------- ------------------------- 5.8/16.4 MB 3.1 MB/s eta 0:00:04\n",
      "   --------------- ------------------------ 6.3/16.4 MB 3.1 MB/s eta 0:00:04\n",
      "   ----------------- ---------------------- 7.1/16.4 MB 3.2 MB/s eta 0:00:03\n",
      "   ------------------ --------------------- 7.6/16.4 MB 3.1 MB/s eta 0:00:03\n",
      "   -------------------- ------------------- 8.4/16.4 MB 3.2 MB/s eta 0:00:03\n",
      "   ---------------------- ----------------- 9.2/16.4 MB 3.2 MB/s eta 0:00:03\n",
      "   ------------------------ --------------- 10.0/16.4 MB 3.3 MB/s eta 0:00:02\n",
      "   -------------------------- ------------- 10.7/16.4 MB 3.3 MB/s eta 0:00:02\n",
      "   --------------------------- ------------ 11.3/16.4 MB 3.3 MB/s eta 0:00:02\n",
      "   ----------------------------- ---------- 12.1/16.4 MB 3.3 MB/s eta 0:00:02\n",
      "   ------------------------------- -------- 12.8/16.4 MB 3.3 MB/s eta 0:00:02\n",
      "   -------------------------------- ------- 13.1/16.4 MB 3.3 MB/s eta 0:00:02\n",
      "   --------------------------------- ------ 13.9/16.4 MB 3.2 MB/s eta 0:00:01\n",
      "   ----------------------------------- ---- 14.4/16.4 MB 3.2 MB/s eta 0:00:01\n",
      "   ----------------------------------- ---- 14.7/16.4 MB 3.2 MB/s eta 0:00:01\n",
      "   ------------------------------------- -- 15.2/16.4 MB 3.1 MB/s eta 0:00:01\n",
      "   -------------------------------------- - 15.7/16.4 MB 3.1 MB/s eta 0:00:01\n",
      "   ---------------------------------------  16.3/16.4 MB 3.1 MB/s eta 0:00:01\n",
      "   ---------------------------------------- 16.4/16.4 MB 3.0 MB/s eta 0:00:00\n",
      "Installing collected packages: pulp\n",
      "Successfully installed pulp-3.2.1\n",
      "Note: you may need to restart the kernel to use updated packages.\n"
     ]
    }
   ],
   "source": [
    "pip install pulp"
   ]
  },
  {
   "cell_type": "code",
   "execution_count": 21,
   "id": "ef2632f8-ecac-4c4e-a500-2a88aa6fe119",
   "metadata": {},
   "outputs": [],
   "source": [
    "from pulp import LpProblem, LpVariable, LpBinary, lpSum, LpMaximize, value"
   ]
  },
  {
   "cell_type": "code",
   "execution_count": 22,
   "id": "c91ca287-bdda-4871-a19c-f5de9754039e",
   "metadata": {},
   "outputs": [],
   "source": [
    "prob = LpProblem(\"Maximize_Profit\", LpMaximize)"
   ]
  },
  {
   "cell_type": "code",
   "execution_count": 23,
   "id": "918408eb-c796-43d9-96d2-e2ba24d0e473",
   "metadata": {},
   "outputs": [],
   "source": [
    "product_vars = {\n",
    "    row['Product Name']: LpVariable(f\"x_{i}\", cat=LpBinary)\n",
    "    for i, row in product_df.iterrows()\n",
    "}"
   ]
  },
  {
   "cell_type": "code",
   "execution_count": 24,
   "id": "575c7e49-58ff-456f-a9ef-d2c37cfb1e83",
   "metadata": {},
   "outputs": [],
   "source": [
    "prob += lpSum([\n",
    "    product_vars[row['Product Name']] * row['Estimated Profit']\n",
    "    for _, row in product_df.iterrows()\n",
    "])"
   ]
  },
  {
   "cell_type": "code",
   "execution_count": 25,
   "id": "e9d46109-23ed-4d73-82f8-8ce3d55deff5",
   "metadata": {},
   "outputs": [],
   "source": [
    "BUDGET = 5000\n",
    "prob += lpSum([\n",
    "    product_vars[row['Product Name']] * row['Sales']\n",
    "    for _, row in product_df.iterrows()\n",
    "]) <= BUDGET"
   ]
  },
  {
   "cell_type": "code",
   "execution_count": 26,
   "id": "afa3461d-7a03-4489-a354-0174ab089e5e",
   "metadata": {},
   "outputs": [],
   "source": [
    "MAX_PRODUCTS = 20\n",
    "prob += lpSum(product_vars.values()) <= MAX_PRODUCTS"
   ]
  },
  {
   "cell_type": "code",
   "execution_count": 27,
   "id": "decaa747-885d-4960-a3c1-1776e4090f77",
   "metadata": {},
   "outputs": [
    {
     "data": {
      "text/plain": [
       "1"
      ]
     },
     "execution_count": 27,
     "metadata": {},
     "output_type": "execute_result"
    }
   ],
   "source": [
    "prob.solve()"
   ]
  },
  {
   "cell_type": "code",
   "execution_count": 28,
   "id": "967f8fde-cf22-4b39-b313-b77237ecb94d",
   "metadata": {},
   "outputs": [],
   "source": [
    "selected = []"
   ]
  },
  {
   "cell_type": "code",
   "execution_count": 29,
   "id": "44c04dbf-de12-4611-a4ff-b11d4bb50ccf",
   "metadata": {},
   "outputs": [],
   "source": [
    "for i, row in product_df.iterrows():\n",
    "    if product_vars[row['Product Name']].varValue == 1:\n",
    "        selected.append(row)\n",
    "\n",
    "selected_df = pd.DataFrame(selected)"
   ]
  },
  {
   "cell_type": "code",
   "execution_count": 34,
   "id": "bd31ae75-d6f4-4e5a-8b28-6cdc30402585",
   "metadata": {},
   "outputs": [
    {
     "data": {
      "text/html": [
       "<div>\n",
       "<style scoped>\n",
       "    .dataframe tbody tr th:only-of-type {\n",
       "        vertical-align: middle;\n",
       "    }\n",
       "\n",
       "    .dataframe tbody tr th {\n",
       "        vertical-align: top;\n",
       "    }\n",
       "\n",
       "    .dataframe thead th {\n",
       "        text-align: right;\n",
       "    }\n",
       "</style>\n",
       "<table border=\"1\" class=\"dataframe\">\n",
       "  <thead>\n",
       "    <tr style=\"text-align: right;\">\n",
       "      <th></th>\n",
       "      <th>Product Name</th>\n",
       "      <th>Sales</th>\n",
       "      <th>Estimated Profit</th>\n",
       "      <th>Category</th>\n",
       "      <th>Sub-Category</th>\n",
       "    </tr>\n",
       "  </thead>\n",
       "  <tbody>\n",
       "    <tr>\n",
       "      <th>872</th>\n",
       "      <td>I.R.I.S IRISCard Anywhere 5 Card Scanner</td>\n",
       "      <td>350.973</td>\n",
       "      <td>87.74325</td>\n",
       "      <td>Technology</td>\n",
       "      <td>Machines</td>\n",
       "    </tr>\n",
       "    <tr>\n",
       "      <th>966</th>\n",
       "      <td>Plastic Binding Combs</td>\n",
       "      <td>269.670</td>\n",
       "      <td>67.41750</td>\n",
       "      <td>Office Supplies</td>\n",
       "      <td>Binders</td>\n",
       "    </tr>\n",
       "    <tr>\n",
       "      <th>971</th>\n",
       "      <td>Eldon Wave Desk Accessories</td>\n",
       "      <td>266.730</td>\n",
       "      <td>66.68250</td>\n",
       "      <td>Furniture</td>\n",
       "      <td>Furnishings</td>\n",
       "    </tr>\n",
       "    <tr>\n",
       "      <th>972</th>\n",
       "      <td>Avery 475</td>\n",
       "      <td>266.400</td>\n",
       "      <td>66.60000</td>\n",
       "      <td>Office Supplies</td>\n",
       "      <td>Labels</td>\n",
       "    </tr>\n",
       "    <tr>\n",
       "      <th>973</th>\n",
       "      <td>Belkin F9S820V06 8 Outlet Surge</td>\n",
       "      <td>266.336</td>\n",
       "      <td>66.58400</td>\n",
       "      <td>Office Supplies</td>\n",
       "      <td>Appliances</td>\n",
       "    </tr>\n",
       "    <tr>\n",
       "      <th>974</th>\n",
       "      <td>Belkin Standard 104 key USB Keyboard</td>\n",
       "      <td>265.538</td>\n",
       "      <td>66.38450</td>\n",
       "      <td>Technology</td>\n",
       "      <td>Accessories</td>\n",
       "    </tr>\n",
       "    <tr>\n",
       "      <th>975</th>\n",
       "      <td>Boston Model 1800 Electric Pencil Sharpener, Gray</td>\n",
       "      <td>264.610</td>\n",
       "      <td>66.15250</td>\n",
       "      <td>Office Supplies</td>\n",
       "      <td>Art</td>\n",
       "    </tr>\n",
       "    <tr>\n",
       "      <th>978</th>\n",
       "      <td>Staple remover</td>\n",
       "      <td>263.088</td>\n",
       "      <td>65.77200</td>\n",
       "      <td>Office Supplies</td>\n",
       "      <td>Supplies</td>\n",
       "    </tr>\n",
       "    <tr>\n",
       "      <th>979</th>\n",
       "      <td>Southworth 100% Résumé Paper, 24lb.</td>\n",
       "      <td>262.964</td>\n",
       "      <td>65.74100</td>\n",
       "      <td>Office Supplies</td>\n",
       "      <td>Paper</td>\n",
       "    </tr>\n",
       "    <tr>\n",
       "      <th>980</th>\n",
       "      <td>Acco Data Flex Cable Posts For Top &amp; Bottom Lo...</td>\n",
       "      <td>262.836</td>\n",
       "      <td>65.70900</td>\n",
       "      <td>Office Supplies</td>\n",
       "      <td>Binders</td>\n",
       "    </tr>\n",
       "    <tr>\n",
       "      <th>981</th>\n",
       "      <td>File Shuttle I and Handi-File</td>\n",
       "      <td>262.668</td>\n",
       "      <td>65.66700</td>\n",
       "      <td>Office Supplies</td>\n",
       "      <td>Storage</td>\n",
       "    </tr>\n",
       "    <tr>\n",
       "      <th>982</th>\n",
       "      <td>Belkin 6 Outlet Metallic Surge Strip</td>\n",
       "      <td>262.449</td>\n",
       "      <td>65.61225</td>\n",
       "      <td>Office Supplies</td>\n",
       "      <td>Appliances</td>\n",
       "    </tr>\n",
       "    <tr>\n",
       "      <th>984</th>\n",
       "      <td>Hand-Finished Solid Wood Document Frame</td>\n",
       "      <td>260.148</td>\n",
       "      <td>65.03700</td>\n",
       "      <td>Furniture</td>\n",
       "      <td>Furnishings</td>\n",
       "    </tr>\n",
       "    <tr>\n",
       "      <th>985</th>\n",
       "      <td>3M Office Air Cleaner</td>\n",
       "      <td>259.800</td>\n",
       "      <td>64.95000</td>\n",
       "      <td>Office Supplies</td>\n",
       "      <td>Appliances</td>\n",
       "    </tr>\n",
       "    <tr>\n",
       "      <th>987</th>\n",
       "      <td>GBC Standard Recycled Report Covers, Clear Pla...</td>\n",
       "      <td>258.720</td>\n",
       "      <td>64.68000</td>\n",
       "      <td>Office Supplies</td>\n",
       "      <td>Binders</td>\n",
       "    </tr>\n",
       "    <tr>\n",
       "      <th>988</th>\n",
       "      <td>Executive Impressions 10\" Spectator Wall Clock</td>\n",
       "      <td>258.720</td>\n",
       "      <td>64.68000</td>\n",
       "      <td>Furniture</td>\n",
       "      <td>Furnishings</td>\n",
       "    </tr>\n",
       "    <tr>\n",
       "      <th>989</th>\n",
       "      <td>Avery Legal 4-Ring Binder</td>\n",
       "      <td>258.054</td>\n",
       "      <td>64.51350</td>\n",
       "      <td>Office Supplies</td>\n",
       "      <td>Binders</td>\n",
       "    </tr>\n",
       "    <tr>\n",
       "      <th>1005</th>\n",
       "      <td>Panasonic KX - TS880B Telephone</td>\n",
       "      <td>247.320</td>\n",
       "      <td>61.83000</td>\n",
       "      <td>Technology</td>\n",
       "      <td>Phones</td>\n",
       "    </tr>\n",
       "    <tr>\n",
       "      <th>1108</th>\n",
       "      <td>Avery Premier Heavy-Duty Binder with Round Loc...</td>\n",
       "      <td>191.352</td>\n",
       "      <td>47.83800</td>\n",
       "      <td>Office Supplies</td>\n",
       "      <td>Binders</td>\n",
       "    </tr>\n",
       "    <tr>\n",
       "      <th>1848</th>\n",
       "      <td>Eureka Disposable Bags for Sanitaire Vibra Gro...</td>\n",
       "      <td>1.624</td>\n",
       "      <td>0.40600</td>\n",
       "      <td>Office Supplies</td>\n",
       "      <td>Appliances</td>\n",
       "    </tr>\n",
       "  </tbody>\n",
       "</table>\n",
       "</div>"
      ],
      "text/plain": [
       "                                           Product Name    Sales  \\\n",
       "872            I.R.I.S IRISCard Anywhere 5 Card Scanner  350.973   \n",
       "966                               Plastic Binding Combs  269.670   \n",
       "971                         Eldon Wave Desk Accessories  266.730   \n",
       "972                                           Avery 475  266.400   \n",
       "973                     Belkin F9S820V06 8 Outlet Surge  266.336   \n",
       "974                Belkin Standard 104 key USB Keyboard  265.538   \n",
       "975   Boston Model 1800 Electric Pencil Sharpener, Gray  264.610   \n",
       "978                                      Staple remover  263.088   \n",
       "979                 Southworth 100% Résumé Paper, 24lb.  262.964   \n",
       "980   Acco Data Flex Cable Posts For Top & Bottom Lo...  262.836   \n",
       "981                       File Shuttle I and Handi-File  262.668   \n",
       "982                Belkin 6 Outlet Metallic Surge Strip  262.449   \n",
       "984             Hand-Finished Solid Wood Document Frame  260.148   \n",
       "985                               3M Office Air Cleaner  259.800   \n",
       "987   GBC Standard Recycled Report Covers, Clear Pla...  258.720   \n",
       "988      Executive Impressions 10\" Spectator Wall Clock  258.720   \n",
       "989                           Avery Legal 4-Ring Binder  258.054   \n",
       "1005                    Panasonic KX - TS880B Telephone  247.320   \n",
       "1108  Avery Premier Heavy-Duty Binder with Round Loc...  191.352   \n",
       "1848  Eureka Disposable Bags for Sanitaire Vibra Gro...    1.624   \n",
       "\n",
       "      Estimated Profit         Category Sub-Category  \n",
       "872           87.74325       Technology     Machines  \n",
       "966           67.41750  Office Supplies      Binders  \n",
       "971           66.68250        Furniture  Furnishings  \n",
       "972           66.60000  Office Supplies       Labels  \n",
       "973           66.58400  Office Supplies   Appliances  \n",
       "974           66.38450       Technology  Accessories  \n",
       "975           66.15250  Office Supplies          Art  \n",
       "978           65.77200  Office Supplies     Supplies  \n",
       "979           65.74100  Office Supplies        Paper  \n",
       "980           65.70900  Office Supplies      Binders  \n",
       "981           65.66700  Office Supplies      Storage  \n",
       "982           65.61225  Office Supplies   Appliances  \n",
       "984           65.03700        Furniture  Furnishings  \n",
       "985           64.95000  Office Supplies   Appliances  \n",
       "987           64.68000  Office Supplies      Binders  \n",
       "988           64.68000        Furniture  Furnishings  \n",
       "989           64.51350  Office Supplies      Binders  \n",
       "1005          61.83000       Technology       Phones  \n",
       "1108          47.83800  Office Supplies      Binders  \n",
       "1848           0.40600  Office Supplies   Appliances  "
      ]
     },
     "execution_count": 34,
     "metadata": {},
     "output_type": "execute_result"
    }
   ],
   "source": [
    "selected_df"
   ]
  },
  {
   "cell_type": "code",
   "execution_count": 35,
   "id": "2bdc19c9-a750-41ae-a1ab-d9c6f572e805",
   "metadata": {},
   "outputs": [],
   "source": [
    "sorted_df = product_df.sort_values(by='Estimated Profit', ascending=False).reset_index(drop=True)\n",
    "sorted_df['Cumulative Profit'] = sorted_df['Estimated Profit'].cumsum()\n",
    "total_profit = sorted_df['Estimated Profit'].sum()\n",
    "sorted_df['Cumulative Profit %'] = 100 * sorted_df['Cumulative Profit'] / total_profit"
   ]
  },
  {
   "cell_type": "code",
   "execution_count": 40,
   "id": "e2b0386b-bd04-410a-b31a-143f264915df",
   "metadata": {},
   "outputs": [
    {
     "name": "stdout",
     "output_type": "stream",
     "text": [
      "18.5% of products contribute to 75% of estimated profit\n"
     ]
    }
   ],
   "source": [
    "top_cutoff = sorted_df[sorted_df['Cumulative Profit %'] <= 75]\n",
    "top_percent = 100 * len(top_cutoff) / len(product_df)\n",
    "\n",
    "print(f\"{top_percent:.1f}% of products contribute to 75% of estimated profit\")"
   ]
  },
  {
   "cell_type": "code",
   "execution_count": 41,
   "id": "4b1b87ea-8749-411d-a4da-69fe8986492b",
   "metadata": {},
   "outputs": [
    {
     "name": "stdout",
     "output_type": "stream",
     "text": [
      "Category\n",
      "Furniture          0.25\n",
      "Office Supplies    0.25\n",
      "Technology         0.25\n",
      "Name: Profit Efficiency, dtype: float64\n"
     ]
    }
   ],
   "source": [
    "product_df['Profit Efficiency'] = product_df['Estimated Profit'] / product_df['Sales']\n",
    "category_efficiency = product_df.groupby('Category')['Profit Efficiency'].mean().sort_values()\n",
    "\n",
    "print(category_efficiency)\n"
   ]
  },
  {
   "cell_type": "code",
   "execution_count": null,
   "id": "39e9d289-2a89-4113-b1c8-9f2f24978a8c",
   "metadata": {},
   "outputs": [],
   "source": []
  }
 ],
 "metadata": {
  "kernelspec": {
   "display_name": "Python 3 (ipykernel)",
   "language": "python",
   "name": "python3"
  },
  "language_info": {
   "codemirror_mode": {
    "name": "ipython",
    "version": 3
   },
   "file_extension": ".py",
   "mimetype": "text/x-python",
   "name": "python",
   "nbconvert_exporter": "python",
   "pygments_lexer": "ipython3",
   "version": "3.12.7"
  }
 },
 "nbformat": 4,
 "nbformat_minor": 5
}
